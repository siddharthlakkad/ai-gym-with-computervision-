{
 "cells": [
  {
   "cell_type": "code",
   "execution_count": null,
   "id": "84672d99",
   "metadata": {},
   "outputs": [],
   "source": []
  },
  {
   "cell_type": "code",
   "execution_count": null,
   "id": "f977411c",
   "metadata": {},
   "outputs": [],
   "source": [
    "\n",
    "\n",
    " "
   ]
  },
  {
   "cell_type": "code",
   "execution_count": null,
   "id": "9c48f0ef",
   "metadata": {},
   "outputs": [],
   "source": []
  },
  {
   "cell_type": "code",
   "execution_count": null,
   "id": "6cc560ec",
   "metadata": {},
   "outputs": [],
   "source": [
    "from ultralytics import YOLO\n",
    "from ultralytics.solutions import ai_gym\n",
    "import cv2\n",
    "\n",
    "model = YOLO(\"yolov8n-pose.pt\")\n",
    "cap = cv2.VideoCapture(0)\n",
    "assert cap.isOpened(), \"Error reading video file\"\n",
    "w, h, fps = (int(cap.get(x)) for x in (cv2.CAP_PROP_FRAME_WIDTH, cv2.CAP_PROP_FRAME_HEIGHT, cv2.CAP_PROP_FPS))\n",
    "\n",
    "gym_object = ai_gym.AIGym()  # init AI GYM module\n",
    "gym_object.set_args(line_thickness=2,\n",
    "                    view_img=True,\n",
    "                    pose_type=\"pushup\",\n",
    "                    kpts_to_check=[8, 8, 10])\n",
    "\n",
    "frame_count = 0\n",
    "while cap.isOpened():\n",
    "    success, im0 = cap.read()\n",
    "    if not success:\n",
    "      print(\"Video frame is empty or video processing has been successfully completed.\")\n",
    "      break\n",
    "    frame_count += 1\n",
    "    results = model.predict(im0, verbose=False)\n",
    "    im0 = gym_object.start_counting(im0, results, frame_count)\n",
    "\n",
    "cv2.destroyAllWindows()"
   ]
  },
  {
   "cell_type": "code",
   "execution_count": null,
   "id": "1323a26d",
   "metadata": {},
   "outputs": [],
   "source": [
    "from ultralytics import YOLO\n",
    "from ultralytics.solutions import ai_gym\n",
    "import cv2\n",
    "\n",
    "model = YOLO(\"yolov8n-pose.pt\")\n",
    "cap = cv2.VideoCapture(0)\n",
    "assert cap.isOpened(), \"Error reading video file\"\n",
    "w, h, fps = (int(cap.get(x)) for x in (cv2.CAP_PROP_FRAME_WIDTH, cv2.CAP_PROP_FRAME_HEIGHT, cv2.CAP_PROP_FPS))\n",
    "\n",
    "gym_object = ai_gym.AIGym()  # init AI GYM module\n",
    "gym_object.set_args(line_thickness=2,\n",
    "                    view_img=True,\n",
    "                    pose_type=\"pushup\",\n",
    "                    kpts_to_check=[6, 8, 10])\n",
    "\n",
    "frame_count = 0\n",
    "while cap.isOpened():\n",
    "    success, im0 = cap.read()\n",
    "    if not success:\n",
    "      print(\"Video frame is empty or video processing has been successfully completed.\")\n",
    "      break\n",
    "    frame_count += 1\n",
    "    results = model.predict(im0, verbose=False)\n",
    "    im0 = gym_object.start_counting(im0, results, frame_count)\n",
    "\n",
    "cv2.destroyAllWindows()\n"
   ]
  },
  {
   "cell_type": "code",
   "execution_count": null,
   "id": "fa7e7223",
   "metadata": {},
   "outputs": [],
   "source": []
  }
 ],
 "metadata": {
  "kernelspec": {
   "display_name": "Python 3 (ipykernel)",
   "language": "python",
   "name": "python3"
  },
  "language_info": {
   "codemirror_mode": {
    "name": "ipython",
    "version": 3
   },
   "file_extension": ".py",
   "mimetype": "text/x-python",
   "name": "python",
   "nbconvert_exporter": "python",
   "pygments_lexer": "ipython3",
   "version": "3.10.9"
  }
 },
 "nbformat": 4,
 "nbformat_minor": 5
}
